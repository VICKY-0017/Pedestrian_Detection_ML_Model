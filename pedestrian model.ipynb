{
 "cells": [
  {
   "cell_type": "code",
   "execution_count": 1,
   "id": "c7d0d3eb-8b3a-4839-8539-f78d00ca41aa",
   "metadata": {},
   "outputs": [],
   "source": [
    "import numpy as np\n",
    "import cv2\n",
    "import os\n",
    "import imutils"
   ]
  },
  {
   "cell_type": "code",
   "execution_count": 2,
   "id": "d5691d1e-5d34-4586-9d9e-ed3b9427f9a1",
   "metadata": {},
   "outputs": [],
   "source": [
    "NMS_Threshold = 0.3\n",
    "MIN_Confidence = 0.2"
   ]
  },
  {
   "cell_type": "code",
   "execution_count": 3,
   "id": "4700c36a-6248-4cc9-b97e-b9cc3a23ce87",
   "metadata": {},
   "outputs": [],
   "source": [
    "def pedestrian_detection(image, model, layer_name, personidz=0):\n",
    "    (H, W) = image.shape[:2]\n",
    "    results = []\n",
    "\n",
    "    \n",
    "    blb = cv2.dnn.blobFromImage(image, 1 / 255.0, (416, 416),swapRB=True, crop=False)\n",
    "    model.setInput(blb)\n",
    "    layerOutputs = model.forward(layer_name)\n",
    "\n",
    "\n",
    "    boxes = []\n",
    "    centroids = []\n",
    "    confidences = []\n",
    "\n",
    "    for result in layerOutputs:\n",
    "        for detection in result:\n",
    "            scores = detection[5:]\n",
    "            classID = np.argmax(scores)\n",
    "            confidence = scores[classID]\n",
    "\n",
    "            if classID == personidz and confidence > MIN_Confidence:\n",
    "                box = detection[0:4]*np.array([W,H,W,H])\n",
    "                (centerX , centerY, width, height) = box.astype(\"int\")\n",
    "                x = int(centerX - (width/2))\n",
    "                y = int(centerY - (height/2))\n",
    "                boxes.append([x,y,int(width),int(height)])\n",
    "                centroids.append((centerX,centerY))\n",
    "                confidences.append(float(confidence))\n",
    "\n",
    "        idzs = cv2.dnn.NMSBoxes(boxes,confidences,MIN_Confidence,NMS_Threshold)\n",
    "        if len(idzs)>0:\n",
    "            for i in idzs.flatten():\n",
    "                (x,y) = (boxes[i][0] ,boxes[i][1])\n",
    "                (w,h) = (boxes[i][2] , boxes[i][3])\n",
    "                res = (confidences[i],(x,y,x+w,y+h),centroids[i])\n",
    "                results.append(res)\n",
    "        return results"
   ]
  },
  {
   "cell_type": "code",
   "execution_count": 4,
   "id": "d07a889b-1d01-4089-9d45-caca2ed22707",
   "metadata": {},
   "outputs": [],
   "source": [
    "labelspth = \"coco.names\"\n",
    "Label  = open(labelspth).read().strip().split(\"\\n\")\n",
    "weights_path = \"yolov4-tiny.weights\"\n",
    "config_path = \"yolov4-tiny.cfg\"\n",
    "\n",
    "model = cv2.dnn.readNetFromDarknet(config_path,weights_path)\n",
    "\n",
    "'''\n",
    "model.setPreferableBackend(cv2.dnn.DNN_BACKEND_CUDA)\n",
    "model.setPreferableTarget(cv2.dnn.DNN_TARGET_CUDA)\n",
    "\n",
    "'''\n",
    "layername = model.getLayerNames()\n",
    "layername = [layername[i-1] for i in model.getUnconnectedOutLayers()]\n",
    "capture = cv2.VideoCapture(\"General_public_preview.mp4\")\n",
    "writer = None\n"
   ]
  },
  {
   "cell_type": "code",
   "execution_count": 5,
   "id": "092f22d5-b760-48f7-8f14-36864c406d39",
   "metadata": {},
   "outputs": [],
   "source": [
    "while True:\n",
    "    (grabbed,image) = capture.read()\n",
    "    if not grabbed:\n",
    "        break\n",
    "    image = imutils.resize(image,width = 700)\n",
    "    results = pedestrian_detection(image,model,layername,personidz = Label.index(\"person\"))\n",
    "    for res in results:\n",
    "        cv2.rectangle(image,(res[1][0],res[1][1]),(res[1][2],res[1][3]),(0,255,0),2)\n",
    "    cv2.imshow(\"DETECTION\",image)\n",
    "    key = cv2.waitKey(1)\n",
    "    if key == 27:\n",
    "        break\n"
   ]
  },
  {
   "cell_type": "code",
   "execution_count": 6,
   "id": "e77a4464-5b02-4a28-8d03-fb7d944a8fd6",
   "metadata": {},
   "outputs": [],
   "source": [
    "\n",
    "capture. Release()\n",
    "cv2.destroyAllWindows()"
   ]
  },
  {
   "cell_type": "code",
   "execution_count": null,
   "id": "c9ac612c-3e08-46b4-8210-05a3c52d247d",
   "metadata": {},
   "outputs": [],
   "source": []
  }
 ],
 "metadata": {
  "kernelspec": {
   "display_name": "Python 3 (ipykernel)",
   "language": "python",
   "name": "python3"
  },
  "language_info": {
   "codemirror_mode": {
    "name": "ipython",
    "version": 3
   },
   "file_extension": ".py",
   "mimetype": "text/x-python",
   "name": "python",
   "nbconvert_exporter": "python",
   "pygments_lexer": "ipython3",
   "version": "3.11.5"
  }
 },
 "nbformat": 4,
 "nbformat_minor": 5
}
